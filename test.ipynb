{
 "cells": [
  {
   "cell_type": "code",
   "execution_count": 3,
   "id": "c107906a",
   "metadata": {},
   "outputs": [],
   "source": [
    "import numpy as np\n",
    "import torch"
   ]
  },
  {
   "cell_type": "code",
   "execution_count": 10,
   "id": "14c3debe",
   "metadata": {},
   "outputs": [
    {
     "data": {
      "text/plain": [
       "torch.Size([3, 112, 112])"
      ]
     },
     "execution_count": 10,
     "metadata": {},
     "output_type": "execute_result"
    }
   ],
   "source": [
    "grad = np.load(\"/igd/a1/home/seidel/code/GraFIQs/output/image/000012/00001535_grad.npy\")\n",
    "\n",
    "torch.from_numpy(grad).shape"
   ]
  },
  {
   "cell_type": "code",
   "execution_count": 7,
   "id": "61912690",
   "metadata": {},
   "outputs": [
    {
     "data": {
      "text/plain": [
       "torch.Size([20, 10572])"
      ]
     },
     "execution_count": 7,
     "metadata": {},
     "output_type": "execute_result"
    }
   ],
   "source": [
    "grad = np.load(\"/igd/a1/home/seidel/code/TDA4FV/output/gradients/checkpoint_1/000003/00000342_grad_param_0.npy\")\n",
    "torch.from_numpy(grad).shape"
   ]
  }
 ],
 "metadata": {
  "kernelspec": {
   "display_name": "Python 3 (ipykernel)",
   "language": "python",
   "name": "python3"
  },
  "language_info": {
   "codemirror_mode": {
    "name": "ipython",
    "version": 3
   },
   "file_extension": ".py",
   "mimetype": "text/x-python",
   "name": "python",
   "nbconvert_exporter": "python",
   "pygments_lexer": "ipython3",
   "version": "3.12.3"
  }
 },
 "nbformat": 4,
 "nbformat_minor": 5
}
